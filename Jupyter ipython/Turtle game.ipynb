{
 "cells": [
  {
   "cell_type": "code",
   "execution_count": 1,
   "metadata": {
    "collapsed": true
   },
   "outputs": [],
   "source": [
    "import random as r"
   ]
  },
  {
   "cell_type": "code",
   "execution_count": 3,
   "metadata": {
    "collapsed": false
   },
   "outputs": [],
   "source": [
    "legal_x = [0, 10]\n",
    "legal_y = [0, 10]"
   ]
  },
  {
   "cell_type": "code",
   "execution_count": 7,
   "metadata": {
    "collapsed": false
   },
   "outputs": [
    {
     "ename": "TypeError",
     "evalue": "'list' object cannot be interpreted as an integer",
     "output_type": "error",
     "traceback": [
      "\u001b[1;31m---------------------------------------------------------------------------\u001b[0m",
      "\u001b[1;31mTypeError\u001b[0m                                 Traceback (most recent call last)",
      "\u001b[1;32m<ipython-input-7-3d5c51ca0935>\u001b[0m in \u001b[0;36m<module>\u001b[1;34m()\u001b[0m\n\u001b[1;32m----> 1\u001b[1;33m \u001b[1;32mfor\u001b[0m \u001b[0mo\u001b[0m \u001b[1;32min\u001b[0m \u001b[0mrange\u001b[0m\u001b[1;33m(\u001b[0m\u001b[1;33m[\u001b[0m\u001b[1;36m10\u001b[0m\u001b[1;33m]\u001b[0m\u001b[1;33m)\u001b[0m\u001b[1;33m:\u001b[0m\u001b[1;33m\u001b[0m\u001b[0m\n\u001b[0m\u001b[0;32m      2\u001b[0m     \u001b[0mprint\u001b[0m\u001b[1;33m(\u001b[0m\u001b[0mo\u001b[0m\u001b[1;33m)\u001b[0m\u001b[1;33m\u001b[0m\u001b[0m\n",
      "\u001b[1;31mTypeError\u001b[0m: 'list' object cannot be interpreted as an integer"
     ]
    }
   ],
   "source": [
    "class Turtle:\n",
    "    def __init__(self):\n",
    "        #初始体力\n",
    "        self.power = 100\n",
    "        #初始位置随机\n",
    "        self.x = r.(legal_x[0], legal_x[1])\n",
    "        self.y = r.(legal_y[0], legal_y[1])\n",
    "    def move(self):\n",
    "        #随机计算方向并移动到新的位置位置（x ， y）\n",
    "        new_x = self.x + r.choice([1, 2, -1, -2])\n",
    "        new_y = self.y + r.choice([1, 2, -1, -2])\n",
    "        #检查new_x and new_y 是否超出边界\n",
    "        if new_x < legal_x[0]:\n",
    "            self.x= legal_x[0]-(new_x - legal_x[0])\n",
    "        elif new_x > legal_x[1]:\n",
    "            self.x = legal_x-(new_x-legal_x[1])\n",
    "        else:\n",
    "            self.x = new_x\n",
    "        if new_y < legal_y[0]:\n",
    "            self.y = legal_y[0]-(new_y-legal_y[0])\n",
    "        elif new_y > legal_y[1]:\n",
    "            slef.y = legal_y[1]-(new_y-legal_y[1])\n",
    "        else:\n",
    "            self.y = new_y\n",
    "        self.power -= 1\n",
    "        return (self.x, self.y)\n",
    "    def eat(self):\n",
    "        self.power += 20\n",
    "        if self.power > 100:\n",
    "            self.power = 100\n",
    "\n",
    "class fish:\n",
    "    def __init__(self):\n",
    "        self.x = r.(legal_x[0], legal_x[1])\n",
    "        self.y = r.(legal_y[0], legal_y[1])\n",
    "    def move(self):\n",
    "        new_x = self.x + r.choice([1, -1])\n",
    "        new_y = self.y + r.choice([1, -1])\n",
    "        if new_x < legal_x[0]:\n",
    "            self.x= legal_x[0]-(new_x - legal_x[0])\n",
    "        elif new_x > legal_x[1]:\n",
    "            self.x = legal_x-(new_x-legal_x[1])\n",
    "        else:\n",
    "            self.x = new_x\n",
    "        if new_y < legal_y[0]:\n",
    "            self.y = legal_y[0]-(new_y-legal_y[0])\n",
    "        elif new_y > legal_y[1]:\n",
    "            slef.y = legal_y[1]-(new_y-legal_y[1])\n",
    "        else:\n",
    "            self.y = new_y\n",
    "        return (self.x, self.y)\n",
    "        "
   ]
  },
  {
   "cell_type": "code",
   "execution_count": null,
   "metadata": {
    "collapsed": true
   },
   "outputs": [],
   "source": []
  }
 ],
 "metadata": {
  "kernelspec": {
   "display_name": "Python 3",
   "language": "python",
   "name": "python3"
  },
  "language_info": {
   "codemirror_mode": {
    "name": "ipython",
    "version": 3
   },
   "file_extension": ".py",
   "mimetype": "text/x-python",
   "name": "python",
   "nbconvert_exporter": "python",
   "pygments_lexer": "ipython3",
   "version": "3.6.0"
  }
 },
 "nbformat": 4,
 "nbformat_minor": 2
}
