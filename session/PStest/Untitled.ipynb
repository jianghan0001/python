{
 "cells": [
  {
   "cell_type": "code",
   "execution_count": 1,
   "metadata": {
    "collapsed": false
   },
   "outputs": [
    {
     "ename": "SyntaxError",
     "evalue": "unexpected EOF while parsing (<ipython-input-1-2e84926f3a93>, line 2)",
     "output_type": "error",
     "traceback": [
      "\u001b[1;36m  File \u001b[1;32m\"<ipython-input-1-2e84926f3a93>\"\u001b[1;36m, line \u001b[1;32m2\u001b[0m\n\u001b[1;33m    \u001b[0m\n\u001b[1;37m    ^\u001b[0m\n\u001b[1;31mSyntaxError\u001b[0m\u001b[1;31m:\u001b[0m unexpected EOF while parsing\n"
     ]
    }
   ],
   "source": [
    "def abc(a, c):\n",
    "    "
   ]
  },
  {
   "cell_type": "code",
   "execution_count": 2,
   "metadata": {
    "collapsed": true
   },
   "outputs": [],
   "source": [
    "a=[1,3,3,3,3,3,1]"
   ]
  },
  {
   "cell_type": "code",
   "execution_count": 3,
   "metadata": {
    "collapsed": false
   },
   "outputs": [
    {
     "data": {
      "text/plain": [
       "[1, 3, 3, 3, 3, 3, 1]"
      ]
     },
     "execution_count": 3,
     "metadata": {},
     "output_type": "execute_result"
    }
   ],
   "source": [
    "a"
   ]
  },
  {
   "cell_type": "code",
   "execution_count": 4,
   "metadata": {
    "collapsed": true
   },
   "outputs": [],
   "source": [
    "import numpy as np"
   ]
  },
  {
   "cell_type": "code",
   "execution_count": 6,
   "metadata": {
    "collapsed": true
   },
   "outputs": [],
   "source": [
    "data= {i: np.random.randn() for i in range(7)}"
   ]
  },
  {
   "cell_type": "code",
   "execution_count": 7,
   "metadata": {
    "collapsed": false
   },
   "outputs": [
    {
     "data": {
      "text/plain": [
       "{0: 0.8578673136084113,\n",
       " 1: 1.4413087859412794,\n",
       " 2: 0.8786718009100782,\n",
       " 3: -0.7134927217848821,\n",
       " 4: -0.5660360920650628,\n",
       " 5: 0.48332313884374,\n",
       " 6: 0.8380547461667939}"
      ]
     },
     "execution_count": 7,
     "metadata": {},
     "output_type": "execute_result"
    }
   ],
   "source": [
    "data"
   ]
  },
  {
   "cell_type": "code",
   "execution_count": 8,
   "metadata": {
    "collapsed": false
   },
   "outputs": [
    {
     "ename": "SyntaxError",
     "evalue": "invalid character in identifier (<ipython-input-8-bbdfdb64e4dc>, line 1)",
     "output_type": "error",
     "traceback": [
      "\u001b[1;36m  File \u001b[1;32m\"<ipython-input-8-bbdfdb64e4dc>\"\u001b[1;36m, line \u001b[1;32m1\u001b[0m\n\u001b[1;33m    data？\u001b[0m\n\u001b[1;37m        ^\u001b[0m\n\u001b[1;31mSyntaxError\u001b[0m\u001b[1;31m:\u001b[0m invalid character in identifier\n"
     ]
    }
   ],
   "source": [
    "data？"
   ]
  },
  {
   "cell_type": "code",
   "execution_count": 9,
   "metadata": {
    "collapsed": false
   },
   "outputs": [
    {
     "ename": "SyntaxError",
     "evalue": "invalid syntax (<ipython-input-9-d274dbc814f5>, line 1)",
     "output_type": "error",
     "traceback": [
      "\u001b[1;36m  File \u001b[1;32m\"<ipython-input-9-d274dbc814f5>\"\u001b[1;36m, line \u001b[1;32m1\u001b[0m\n\u001b[1;33m    data ?\u001b[0m\n\u001b[1;37m         ^\u001b[0m\n\u001b[1;31mSyntaxError\u001b[0m\u001b[1;31m:\u001b[0m invalid syntax\n"
     ]
    }
   ],
   "source": [
    "data ?"
   ]
  },
  {
   "cell_type": "code",
   "execution_count": 10,
   "metadata": {
    "collapsed": true
   },
   "outputs": [],
   "source": [
    "data?"
   ]
  },
  {
   "cell_type": "code",
   "execution_count": 11,
   "metadata": {
    "collapsed": true
   },
   "outputs": [],
   "source": [
    "np.*load*?"
   ]
  },
  {
   "cell_type": "code",
   "execution_count": 12,
   "metadata": {
    "collapsed": true
   },
   "outputs": [],
   "source": [
    "%matplotlib inline"
   ]
  },
  {
   "cell_type": "code",
   "execution_count": 13,
   "metadata": {
    "collapsed": true
   },
   "outputs": [],
   "source": [
    "import numpy as np"
   ]
  },
  {
   "cell_type": "code",
   "execution_count": 14,
   "metadata": {
    "collapsed": true
   },
   "outputs": [],
   "source": [
    "import matplotlib.pyplot as plt"
   ]
  },
  {
   "cell_type": "code",
   "execution_count": 15,
   "metadata": {
    "collapsed": false
   },
   "outputs": [
    {
     "data": {
      "text/plain": [
       "array([ 1.08717731, -0.67582082,  0.92690168, -0.36608339,  0.2901831 ,\n",
       "       -1.69726856, -0.21946055, -0.52160101, -1.12209219, -0.94468477,\n",
       "        1.19297214, -0.56442734, -0.10039662, -1.20459566,  0.18279855,\n",
       "       -1.92663317,  0.6700089 , -0.11148508,  0.21354977,  0.10775848,\n",
       "        0.12317151, -0.35278574, -1.45755076,  1.0356876 , -0.61384848,\n",
       "       -0.64848597,  1.17455421, -1.83816548,  0.30958019, -1.64289661,\n",
       "       -0.05658707, -0.23542686, -1.36407907, -1.88489104, -0.21950186,\n",
       "       -0.60615303, -0.41761707, -0.40724559,  1.14408248, -0.22401347,\n",
       "       -0.70925252,  1.75146636,  0.27723637, -0.59586923, -0.72033429,\n",
       "        1.22238863,  1.18523474, -1.82470209,  0.43219911,  0.88388231])"
      ]
     },
     "execution_count": 15,
     "metadata": {},
     "output_type": "execute_result"
    }
   ],
   "source": [
    "np.random.randn(50)"
   ]
  },
  {
   "cell_type": "code",
   "execution_count": 16,
   "metadata": {
    "collapsed": false
   },
   "outputs": [
    {
     "data": {
      "text/plain": [
       "array([ 0.43269624, -0.36630807, -1.44949404, -1.03992209, -1.59610081,\n",
       "       -2.9615561 , -2.64299018, -2.29868209, -2.11192307, -3.54683499,\n",
       "       -0.50800148, -2.09339175, -0.13879625,  1.2788586 ,  2.82459026,\n",
       "        3.71965814,  4.32136396,  4.19112829,  3.71096389,  2.97661053,\n",
       "        1.26360643,  1.34470935,  1.74788527,  1.54771248,  0.48481224,\n",
       "       -0.40177995, -0.22150128, -0.15679157,  0.74474102,  2.5140105 ,\n",
       "        1.16180323, -0.16458816, -0.59956439, -0.80106023, -0.25086301,\n",
       "        0.37648734,  1.07248334,  1.97486754,  2.25363707,  1.48024564,\n",
       "        2.06187845,  2.85468904,  2.45643608,  4.47404194,  5.51989256,\n",
       "        4.71285301,  4.72584116,  5.46824657,  6.05056393,  6.9496903 ])"
      ]
     },
     "execution_count": 16,
     "metadata": {},
     "output_type": "execute_result"
    }
   ],
   "source": [
    "np.random.randn(50).cumsum()"
   ]
  },
  {
   "cell_type": "code",
   "execution_count": 17,
   "metadata": {
    "collapsed": false
   },
   "outputs": [
    {
     "data": {
      "text/plain": [
       "[<matplotlib.lines.Line2D at 0x7604b38>]"
      ]
     },
     "execution_count": 17,
     "metadata": {},
     "output_type": "execute_result"
    },
    {
     "data": {
      "image/png": "[encoded data removed]",
      "text/plain": [
       "<matplotlib.figure.Figure at 0x7557b00>"
      ]
     },
     "metadata": {},
     "output_type": "display_data"
    }
   ],
   "source": [
    "plt.plot(np.random.randn(50).cumsum())"
   ]
  },
  {
   "cell_type": "code",
   "execution_count": 18,
   "metadata": {
    "collapsed": true
   },
   "outputs": [],
   "source": [
    "y=np.random.randn(50).cumsum()"
   ]
  },
  {
   "cell_type": "code",
   "execution_count": 19,
   "metadata": {
    "collapsed": false
   },
   "outputs": [
    {
     "data": {
      "text/plain": [
       "array([-0.84835128, -1.68779743,  0.25535579,  1.34753668,  0.85852074,\n",
       "        0.10850668, -0.31867821, -0.62332923, -1.16694219, -1.35342007,\n",
       "       -3.6413509 , -4.11318446, -3.34424154, -1.60883257, -1.97623219,\n",
       "       -4.13965387, -4.15948175, -4.89163442, -5.0966841 , -4.26002034,\n",
       "       -4.31790575, -5.99876848, -6.68040879, -6.77871343, -6.30704241,\n",
       "       -5.3166975 , -6.77786248, -7.35868774, -6.84359696, -5.88563729,\n",
       "       -5.60714182, -6.50090763, -6.86351493, -6.16183443, -7.33922597,\n",
       "       -5.92061385, -6.35757273, -5.09814457, -4.22230135, -3.64277198,\n",
       "       -2.96125991, -3.26087706, -2.45554784, -3.39285553, -2.36180508,\n",
       "       -4.36535876, -5.51944745, -5.25101738, -4.35749508, -3.74811631])"
      ]
     },
     "execution_count": 19,
     "metadata": {},
     "output_type": "execute_result"
    }
   ],
   "source": [
    "y"
   ]
  },
  {
   "cell_type": "code",
   "execution_count": 20,
   "metadata": {
    "collapsed": false
   },
   "outputs": [
    {
     "data": {
      "text/plain": [
       "[<matplotlib.lines.Line2D at 0x76c8be0>]"
      ]
     },
     "execution_count": 20,
     "metadata": {},
     "output_type": "execute_result"
    },
    {
     "data": {
      "image/png": "[encoded data removed]",
      "text/plain": [
       "<matplotlib.figure.Figure at 0x7629ef0>"
      ]
     },
     "metadata": {},
     "output_type": "display_data"
    }
   ],
   "source": [
    "plt.plot(y)"
   ]
  },
  {
   "cell_type": "code",
   "execution_count": 21,
   "metadata": {
    "collapsed": true
   },
   "outputs": [],
   "source": [
    "ip_info=!ls"
   ]
  },
  {
   "cell_type": "code",
   "execution_count": 22,
   "metadata": {
    "collapsed": false
   },
   "outputs": [
    {
     "data": {
      "text/plain": [
       "[\"'ls' is not recognized as an internal or external command,\",\n",
       " 'operable program or batch file.']"
      ]
     },
     "execution_count": 22,
     "metadata": {},
     "output_type": "execute_result"
    }
   ],
   "source": [
    "ip_info"
   ]
  },
  {
   "cell_type": "code",
   "execution_count": 23,
   "metadata": {
    "collapsed": true
   },
   "outputs": [],
   "source": [
    "ip_info=!dir"
   ]
  },
  {
   "cell_type": "code",
   "execution_count": 24,
   "metadata": {
    "collapsed": false
   },
   "outputs": [
    {
     "data": {
      "text/plain": [
       "[' Volume in drive C is WIN7',\n",
       " ' Volume Serial Number is B614-178F',\n",
       " '',\n",
       " ' Directory of C:\\\\py\\\\python\\\\session\\\\PStest',\n",
       " '',\n",
       " '03/23/2017  02:07 PM    <DIR>          .',\n",
       " '03/23/2017  02:07 PM    <DIR>          ..',\n",
       " '03/22/2017  11:05 PM    <DIR>          .idea',\n",
       " '03/23/2017  01:15 PM    <DIR>          .ipynb_checkpoints',\n",
       " '03/18/2017  11:00 AM               165 01.py',\n",
       " '03/22/2017  11:02 PM                68 dd.py',\n",
       " '03/08/2017  12:49 AM               506 ex edx',\n",
       " '03/05/2017  10:11 PM               700 ex1.py',\n",
       " '03/07/2017  01:12 PM               890 ex16.py',\n",
       " '03/07/2017  04:09 PM             1,004 ex17.py',\n",
       " '03/07/2017  04:53 PM               679 ex18.py',\n",
       " '03/07/2017  08:10 PM               710 ex19.py',\n",
       " '02/24/2017  03:39 PM               224 ex2.py',\n",
       " '03/07/2017  09:32 PM               895 ex20.py',\n",
       " '03/08/2017  07:27 PM               345 ex21.py',\n",
       " '03/05/2017  10:26 PM               641 ex3.py',\n",
       " '03/05/2017  11:15 PM               328 ex4.py',\n",
       " '03/05/2017  11:02 PM               859 ex5.py',\n",
       " '03/06/2017  12:22 AM               490 ex6.py',\n",
       " '03/01/2017  01:17 PM               523 ex7.py',\n",
       " '03/09/2017  11:12 AM               805 exa.py',\n",
       " '03/07/2017  04:37 PM                48 in.txt',\n",
       " '03/07/2017  01:05 PM                11 out.txt',\n",
       " '03/23/2017  02:07 PM            46,681 Untitled.ipynb',\n",
       " '              20 File(s)         56,572 bytes',\n",
       " '               4 Dir(s)  36,307,316,736 bytes free']"
      ]
     },
     "execution_count": 24,
     "metadata": {},
     "output_type": "execute_result"
    }
   ],
   "source": [
    "ip_info"
   ]
  },
  {
   "cell_type": "code",
   "execution_count": 25,
   "metadata": {
    "collapsed": true
   },
   "outputs": [],
   "source": [
    "ip_info=!ipconfig"
   ]
  },
  {
   "cell_type": "code",
   "execution_count": 26,
   "metadata": {
    "collapsed": false
   },
   "outputs": [
    {
     "data": {
      "text/plain": [
       "['',\n",
       " 'Windows IP Configuration',\n",
       " '',\n",
       " '',\n",
       " 'Ethernet adapter VPN - VPN Client:',\n",
       " '',\n",
       " '   Media State . . . . . . . . . . . : Media disconnected',\n",
       " '   Connection-specific DNS Suffix  . : ',\n",
       " '',\n",
       " 'Ethernet adapter Local Area Connection:',\n",
       " '',\n",
       " '   Connection-specific DNS Suffix  . : ',\n",
       " '   Link-local IPv6 Address . . . . . : fe80::c502:bd77:cde9:4476%11',\n",
       " '   IPv4 Address. . . . . . . . . . . : 192.168.1.2',\n",
       " '   Subnet Mask . . . . . . . . . . . : 255.255.255.0',\n",
       " '   Default Gateway . . . . . . . . . : 192.168.1.1',\n",
       " '',\n",
       " 'Ethernet adapter VMware Network Adapter VMnet1:',\n",
       " '',\n",
       " '   Connection-specific DNS Suffix  . : ',\n",
       " '   Link-local IPv6 Address . . . . . : fe80::c592:aa16:bdcc:c485%17',\n",
       " '   IPv4 Address. . . . . . . . . . . : 192.168.20.1',\n",
       " '   Subnet Mask . . . . . . . . . . . : 255.255.255.0',\n",
       " '   Default Gateway . . . . . . . . . : ',\n",
       " '',\n",
       " 'Ethernet adapter VMware Network Adapter VMnet8:',\n",
       " '',\n",
       " '   Connection-specific DNS Suffix  . : ',\n",
       " '   Link-local IPv6 Address . . . . . : fe80::747e:f91e:151f:aeb7%18',\n",
       " '   IPv4 Address. . . . . . . . . . . : 192.168.211.1',\n",
       " '   Subnet Mask . . . . . . . . . . . : 255.255.255.0',\n",
       " '   Default Gateway . . . . . . . . . : ',\n",
       " '',\n",
       " 'Tunnel adapter isatap.{A3FB894B-71BE-42C4-8CBA-BB5EDFEAB34C}:',\n",
       " '',\n",
       " '   Media State . . . . . . . . . . . : Media disconnected',\n",
       " '   Connection-specific DNS Suffix  . : ',\n",
       " '',\n",
       " 'Tunnel adapter isatap.{2068A30C-0B19-4AA0-9503-B0DAE3DD5E04}:',\n",
       " '',\n",
       " '   Media State . . . . . . . . . . . : Media disconnected',\n",
       " '   Connection-specific DNS Suffix  . : ',\n",
       " '',\n",
       " 'Tunnel adapter Teredo Tunneling Pseudo-Interface:',\n",
       " '',\n",
       " '   Media State . . . . . . . . . . . : Media disconnected',\n",
       " '   Connection-specific DNS Suffix  . : ',\n",
       " '',\n",
       " 'Tunnel adapter isatap.{648C6EB2-7BB0-4965-BA43-EAFE7E84EE5D}:',\n",
       " '',\n",
       " '   Media State . . . . . . . . . . . : Media disconnected',\n",
       " '   Connection-specific DNS Suffix  . : ',\n",
       " '',\n",
       " 'Tunnel adapter isatap.{4463B079-9507-4C97-9048-D38372C918DE}:',\n",
       " '',\n",
       " '   Media State . . . . . . . . . . . : Media disconnected',\n",
       " '   Connection-specific DNS Suffix  . : ']"
      ]
     },
     "execution_count": 26,
     "metadata": {},
     "output_type": "execute_result"
    }
   ],
   "source": [
    "ip_info"
   ]
  },
  {
   "cell_type": "code",
   "execution_count": null,
   "metadata": {
    "collapsed": true
   },
   "outputs": [],
   "source": []
  }
 ],
 "metadata": {
  "kernelspec": {
   "display_name": "Python 3",
   "language": "python",
   "name": "python3"
  },
  "language_info": {
   "codemirror_mode": {
    "name": "ipython",
    "version": 3
   },
   "file_extension": ".py",
   "mimetype": "text/x-python",
   "name": "python",
   "nbconvert_exporter": "python",
   "pygments_lexer": "ipython3",
   "version": "3.6.0"
  }
 },
 "nbformat": 4,
 "nbformat_minor": 2
}
